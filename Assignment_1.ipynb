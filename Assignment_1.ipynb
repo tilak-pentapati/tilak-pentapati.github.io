{
 "cells": [
  {
   "cell_type": "code",
   "execution_count": 1,
   "id": "499278f1-82f3-4367-98cf-6872a753ae30",
   "metadata": {},
   "outputs": [],
   "source": [
    "import requests"
   ]
  },
  {
   "cell_type": "code",
   "execution_count": 26,
   "id": "8f21a757-0762-4ae9-82ff-9213a9388a3a",
   "metadata": {},
   "outputs": [],
   "source": [
    "url = 'https://tle.ivanstanojevic.me/api/tle/25544'\n",
    "response = requests.get(url)\n",
    "tle_data = response.json()"
   ]
  },
  {
   "cell_type": "code",
   "execution_count": 27,
   "id": "ad983d37-32ff-4592-bea9-b0ea4114dc84",
   "metadata": {},
   "outputs": [],
   "source": [
    "line1 = tle_data['line1']\n",
    "line2 = tle_data['line2']"
   ]
  },
  {
   "cell_type": "code",
   "execution_count": 12,
   "id": "1f374546-01c3-4dc0-858e-3063c35c4439",
   "metadata": {},
   "outputs": [],
   "source": [
    "from skyfield.api import load, wgs84, EarthSatellite\n",
    "from datetime import datetime, timedelta\n",
    "import numpy as np"
   ]
  },
  {
   "cell_type": "code",
   "execution_count": 28,
   "id": "8a21c1a3-8414-4f4d-8f46-80f8f666dfdb",
   "metadata": {},
   "outputs": [],
   "source": [
    "\n",
    "ts = load.timescale()\n",
    "\n",
    "satellite = EarthSatellite(line1, line2, 'ISS (ZARYA)', load.timescale())\n",
    "\n",
    "# Calculate positions for the next 24 hours\n",
    "times = [ts.now() + timedelta(hours=i) for i in range(24)]\n",
    "latitudes = []\n",
    "longitudes = []\n"
   ]
  },
  {
   "cell_type": "code",
   "execution_count": 29,
   "id": "2e662b02-3f6c-44dd-a2e6-748bf1f36e08",
   "metadata": {},
   "outputs": [],
   "source": [
    "for t in times:\n",
    "    geocentric = satellite.at(t)\n",
    "    subpoint = wgs84.subpoint(geocentric)\n",
    "    latitudes.append(subpoint.latitude.degrees)\n",
    "    longitudes.append(subpoint.longitude.degrees)\n",
    "    at"
   ]
  },
  {
   "cell_type": "code",
   "execution_count": 30,
   "id": "59013e88-88f2-48da-9b9a-4811e6baae77",
   "metadata": {},
   "outputs": [
    {
     "name": "stdout",
     "output_type": "stream",
     "text": [
      "[-10.089841572842165, 45.64102439739891, -44.03756406679326, 7.407230587076771, 32.56409743005419, -51.4467395250772, 24.42689071615701, 16.29105592769182, -48.88515445174619, 39.480997866920305, -1.1322278027681332, -37.831279028788416, 49.7454508975113, -18.476113618829327, -22.445759442538066, 51.02357176319628, -34.46486341591279, -5.3191707297557365, 42.56407943969921, -46.88470570312608, 12.153335680485872, 28.324649934518096, -51.79458418490565, 28.81200759386007]\n"
     ]
    }
   ],
   "source": [
    "print(latitudes)"
   ]
  },
  {
   "cell_type": "code",
   "execution_count": 17,
   "id": "e1ad355c-7633-442e-ad67-6aca07fccdf9",
   "metadata": {},
   "outputs": [],
   "source": [
    "\n"
   ]
  },
  {
   "cell_type": "code",
   "execution_count": 25,
   "id": "9c6843fa-93aa-49e2-94c6-9077f919564c",
   "metadata": {},
   "outputs": [
    {
     "name": "stdout",
     "output_type": "stream",
     "text": [
      "[-99.41043994069202, 105.33565732146575, -51.74440604782134, -173.58804140536876, 45.15666206934608, -115.90496532895187, 105.53010819083305, -18.289438679766057, -176.31555371250647, 29.95671490082955, -89.00302282801358, 123.94888599404314, -36.60098166308789, -168.5389723955683, 62.1286305706891, -97.98744140016493, 112.85689410847279, -5.40243525509273, -157.6801142961992, 43.418388123372, -82.15910623613371, 141.5846585039823, -19.339858921531768, -162.7673837191992]\n"
     ]
    }
   ],
   "source": [
    "print(longitudes)"
   ]
  },
  {
   "cell_type": "code",
   "execution_count": 62,
   "id": "99657ab4-00c7-4ae0-9b48-1b84110b6829",
   "metadata": {},
   "outputs": [],
   "source": [
    "\n",
    "times = [ts.now() + timedelta(minutes=i) for i in range(70)]\n",
    "latitudes = []\n",
    "longitudes = []\n",
    "altitudes = []\n",
    "\n",
    "for t in times:\n",
    "    geocentric = satellite.at(t)\n",
    "    subpoint = wgs84.subpoint(geocentric)\n",
    "    latitudes.append(subpoint.latitude.degrees)\n",
    "    longitudes.append(subpoint.longitude.degrees)\n",
    "    altitudes.append(subpoint.elevation.m)"
   ]
  },
  {
   "cell_type": "code",
   "execution_count": 67,
   "id": "f17f8e45-0fd7-4e13-b65e-6b3d95362887",
   "metadata": {},
   "outputs": [],
   "source": [
    "mean_motion = satellite.model.no_kozai"
   ]
  },
  {
   "cell_type": "code",
   "execution_count": 68,
   "id": "ae3e739b-2149-489e-851e-ae7a11d63281",
   "metadata": {},
   "outputs": [],
   "source": [
    "orbital_period_minutes = 1440 / mean_motion"
   ]
  },
  {
   "cell_type": "code",
   "execution_count": 69,
   "id": "219a458e-82d1-4f35-bc5d-0e604ed3159c",
   "metadata": {},
   "outputs": [],
   "source": [
    "times = ts.utc(start_time.utc_datetime(), \n",
    "               end_time.utc_datetime() + timedelta(minutes=orbital_period_minutes), \n",
    "               timedelta(minutes=5))"
   ]
  },
  {
   "cell_type": "code",
   "execution_count": null,
   "id": "300637b3-ba6e-4fc4-a45b-3e6a899f7623",
   "metadata": {},
   "outputs": [],
   "source": []
  },
  {
   "cell_type": "code",
   "execution_count": 72,
   "id": "ddac6df0-90d0-4cc7-9944-992cd928351b",
   "metadata": {},
   "outputs": [],
   "source": [
    "from datetime import datetime, timedelta\n",
    "ts = load.timescale()\n",
    "\n",
    "start_time = datetime.utcnow()"
   ]
  },
  {
   "cell_type": "code",
   "execution_count": 73,
   "id": "384ee685-37f4-4ab3-a41f-c8d29df94d8c",
   "metadata": {},
   "outputs": [],
   "source": [
    "orbital_period_hours = 1.5  # For example, 90 minutes for the ISS\n",
    "\n",
    "# Calculate end_time based on the orbital period\n",
    "end_time = start_time + timedelta(hours=orbital_period_hours)\n",
    "\n",
    "# Convert start_time and end_time to Skyfield Time objects\n",
    "start_time_ts = ts.utc(start_time.year, start_time.month, start_time.day, start_time.hour, start_time.minute)\n",
    "end_time_ts = ts.utc(end_time.year, end_time.month, end_time.day, end_time.hour, end_time.minute)\n",
    "\n",
    "# Generate a range of times every 5 minutes over the orbital period\n",
    "times = ts.utc(start_time.year, start_time.month, start_time.day, start_time.hour, range(start_time.minute, end_time.minute + 5, 5))\n",
    "\n",
    "# Now 'times' should be an iterable sequence of Time objects"
   ]
  },
  {
   "cell_type": "code",
   "execution_count": null,
   "id": "5f096b56-e26e-4a3e-8107-a32ed0d65347",
   "metadata": {},
   "outputs": [],
   "source": []
  },
  {
   "cell_type": "code",
   "execution_count": null,
   "id": "55517593-7b2a-4c10-bf4e-565b66805c0f",
   "metadata": {},
   "outputs": [],
   "source": []
  },
  {
   "cell_type": "code",
   "execution_count": 74,
   "id": "b5893aff-4cb1-4f8e-a3a5-b15e5ab3d2a9",
   "metadata": {},
   "outputs": [],
   "source": [
    "latitudes = []\n",
    "longitudes = []\n",
    "altitudes = []\n",
    "\n",
    "for t in times:\n",
    "    geocentric = satellite.at(t)\n",
    "    subpoint = wgs84.subpoint(geocentric)\n",
    "    latitudes.append(subpoint.latitude.degrees)\n",
    "    longitudes.append(subpoint.longitude.degrees)\n",
    "    altitudes.append(subpoint.elevation.m)"
   ]
  },
  {
   "cell_type": "code",
   "execution_count": null,
   "id": "7f4fe562-59b2-4560-b11c-d3ee4af0c346",
   "metadata": {},
   "outputs": [],
   "source": []
  },
  {
   "cell_type": "code",
   "execution_count": 75,
   "id": "f20daad6-3fa8-45a6-9a05-cfc713c2deef",
   "metadata": {},
   "outputs": [],
   "source": [
    "import folium\n",
    "\n",
    "# Your Mapbox access token\n",
    "mapbox_access_token = 'pk.eyJ1IjoiamF5dGlsYWsiLCJhIjoiY2xzbmpmbGgxMDR6MjJsbHJwcWNiZ3MzeiJ9.1NGfoYr6EeGENibTd2ZQKQ'\n",
    "mapbox_tile_url = f\"https://api.mapbox.com/styles/v1/mapbox/streets-v11/tiles/256/{{z}}/{{x}}/{{y}}?access_token={mapbox_access_token}\"\n",
    "\n",
    "# Create a Folium map using Mapbox tiles\n",
    "m = folium.Map(location=[0, 0], zoom_start=2, tiles=mapbox_tile_url, attr='Mapbox')\n",
    "\n"
   ]
  },
  {
   "cell_type": "code",
   "execution_count": 78,
   "id": "c54ebc04-f273-4c21-adeb-ee3da8091bf0",
   "metadata": {},
   "outputs": [
    {
     "data": {
      "text/html": [
       "<div style=\"width:100%;\"><div style=\"position:relative;width:100%;height:0;padding-bottom:60%;\"><span style=\"color:#565656\">Make this Notebook Trusted to load map: File -> Trust Notebook</span><iframe srcdoc=\"&lt;!DOCTYPE html&gt;\n",
       "&lt;html&gt;\n",
       "&lt;head&gt;\n",
       "    \n",
       "    &lt;meta http-equiv=&quot;content-type&quot; content=&quot;text/html; charset=UTF-8&quot; /&gt;\n",
       "    \n",
       "        &lt;script&gt;\n",
       "            L_NO_TOUCH = false;\n",
       "            L_DISABLE_3D = false;\n",
       "        &lt;/script&gt;\n",
       "    \n",
       "    &lt;style&gt;html, body {width: 100%;height: 100%;margin: 0;padding: 0;}&lt;/style&gt;\n",
       "    &lt;style&gt;#map {position:absolute;top:0;bottom:0;right:0;left:0;}&lt;/style&gt;\n",
       "    &lt;script src=&quot;https://cdn.jsdelivr.net/npm/leaflet@1.9.3/dist/leaflet.js&quot;&gt;&lt;/script&gt;\n",
       "    &lt;script src=&quot;https://code.jquery.com/jquery-3.7.1.min.js&quot;&gt;&lt;/script&gt;\n",
       "    &lt;script src=&quot;https://cdn.jsdelivr.net/npm/bootstrap@5.2.2/dist/js/bootstrap.bundle.min.js&quot;&gt;&lt;/script&gt;\n",
       "    &lt;script src=&quot;https://cdnjs.cloudflare.com/ajax/libs/Leaflet.awesome-markers/2.0.2/leaflet.awesome-markers.js&quot;&gt;&lt;/script&gt;\n",
       "    &lt;link rel=&quot;stylesheet&quot; href=&quot;https://cdn.jsdelivr.net/npm/leaflet@1.9.3/dist/leaflet.css&quot;/&gt;\n",
       "    &lt;link rel=&quot;stylesheet&quot; href=&quot;https://cdn.jsdelivr.net/npm/bootstrap@5.2.2/dist/css/bootstrap.min.css&quot;/&gt;\n",
       "    &lt;link rel=&quot;stylesheet&quot; href=&quot;https://netdna.bootstrapcdn.com/bootstrap/3.0.0/css/bootstrap.min.css&quot;/&gt;\n",
       "    &lt;link rel=&quot;stylesheet&quot; href=&quot;https://cdn.jsdelivr.net/npm/@fortawesome/fontawesome-free@6.2.0/css/all.min.css&quot;/&gt;\n",
       "    &lt;link rel=&quot;stylesheet&quot; href=&quot;https://cdnjs.cloudflare.com/ajax/libs/Leaflet.awesome-markers/2.0.2/leaflet.awesome-markers.css&quot;/&gt;\n",
       "    &lt;link rel=&quot;stylesheet&quot; href=&quot;https://cdn.jsdelivr.net/gh/python-visualization/folium/folium/templates/leaflet.awesome.rotate.min.css&quot;/&gt;\n",
       "    \n",
       "            &lt;meta name=&quot;viewport&quot; content=&quot;width=device-width,\n",
       "                initial-scale=1.0, maximum-scale=1.0, user-scalable=no&quot; /&gt;\n",
       "            &lt;style&gt;\n",
       "                #map_3219dd9f2ffc8230c7ac7934f5411258 {\n",
       "                    position: relative;\n",
       "                    width: 100.0%;\n",
       "                    height: 100.0%;\n",
       "                    left: 0.0%;\n",
       "                    top: 0.0%;\n",
       "                }\n",
       "                .leaflet-container { font-size: 1rem; }\n",
       "            &lt;/style&gt;\n",
       "        \n",
       "&lt;/head&gt;\n",
       "&lt;body&gt;\n",
       "    \n",
       "    \n",
       "            &lt;div class=&quot;folium-map&quot; id=&quot;map_3219dd9f2ffc8230c7ac7934f5411258&quot; &gt;&lt;/div&gt;\n",
       "        \n",
       "&lt;/body&gt;\n",
       "&lt;script&gt;\n",
       "    \n",
       "    \n",
       "            var map_3219dd9f2ffc8230c7ac7934f5411258 = L.map(\n",
       "                &quot;map_3219dd9f2ffc8230c7ac7934f5411258&quot;,\n",
       "                {\n",
       "                    center: [-48.62265212027218, -69.79961677923116],\n",
       "                    crs: L.CRS.EPSG3857,\n",
       "                    zoom: 3,\n",
       "                    zoomControl: true,\n",
       "                    preferCanvas: false,\n",
       "                }\n",
       "            );\n",
       "\n",
       "            \n",
       "\n",
       "        \n",
       "    \n",
       "            var tile_layer_1ba9ebd6ef443f8e6dd660e9b526b7a8 = L.tileLayer(\n",
       "                &quot;https://tile.openstreetmap.org/{z}/{x}/{y}.png&quot;,\n",
       "                {&quot;attribution&quot;: &quot;\\u0026copy; \\u003ca href=\\&quot;https://www.openstreetmap.org/copyright\\&quot;\\u003eOpenStreetMap\\u003c/a\\u003e contributors&quot;, &quot;detectRetina&quot;: false, &quot;maxNativeZoom&quot;: 19, &quot;maxZoom&quot;: 19, &quot;minZoom&quot;: 0, &quot;noWrap&quot;: false, &quot;opacity&quot;: 1, &quot;subdomains&quot;: &quot;abc&quot;, &quot;tms&quot;: false}\n",
       "            );\n",
       "        \n",
       "    \n",
       "            tile_layer_1ba9ebd6ef443f8e6dd660e9b526b7a8.addTo(map_3219dd9f2ffc8230c7ac7934f5411258);\n",
       "        \n",
       "    \n",
       "            var marker_75604ac7c1b78a8e3939ac588dd9f20e = L.marker(\n",
       "                [-48.62265212027218, -69.79961677923116],\n",
       "                {}\n",
       "            ).addTo(map_3219dd9f2ffc8230c7ac7934f5411258);\n",
       "        \n",
       "    \n",
       "            marker_75604ac7c1b78a8e3939ac588dd9f20e.bindTooltip(\n",
       "                `&lt;div&gt;\n",
       "                     ISS (ZARYA) Current Position\n",
       "                 &lt;/div&gt;`,\n",
       "                {&quot;sticky&quot;: true}\n",
       "            );\n",
       "        \n",
       "    \n",
       "            tile_layer_1ba9ebd6ef443f8e6dd660e9b526b7a8.addTo(map_3219dd9f2ffc8230c7ac7934f5411258);\n",
       "        \n",
       "    \n",
       "            var poly_line_dc7d281713aa1e265f0c29e94a286cc6 = L.polyline(\n",
       "                [[-48.62265212027218, -69.79961677923116], [-39.11204443114178, -47.54711516803007], [-26.075234532853642, -31.687866494826547], [-11.402296447722035, -19.43927457690806], [3.8493407875102443, -8.54172223932396], [18.919551152958103, 2.8018175271511763], [32.95091618527337, 16.55429892142042]],\n",
       "                {&quot;bubblingMouseEvents&quot;: true, &quot;color&quot;: &quot;red&quot;, &quot;dashArray&quot;: null, &quot;dashOffset&quot;: null, &quot;fill&quot;: false, &quot;fillColor&quot;: &quot;red&quot;, &quot;fillOpacity&quot;: 0.2, &quot;fillRule&quot;: &quot;evenodd&quot;, &quot;lineCap&quot;: &quot;round&quot;, &quot;lineJoin&quot;: &quot;round&quot;, &quot;noClip&quot;: false, &quot;opacity&quot;: 1, &quot;smoothFactor&quot;: 1.0, &quot;stroke&quot;: true, &quot;weight&quot;: 2.5}\n",
       "            ).addTo(map_3219dd9f2ffc8230c7ac7934f5411258);\n",
       "        \n",
       "&lt;/script&gt;\n",
       "&lt;/html&gt;\" style=\"position:absolute;width:100%;height:100%;left:0;top:0;border:none !important;\" allowfullscreen webkitallowfullscreen mozallowfullscreen></iframe></div></div>"
      ],
      "text/plain": [
       "<folium.folium.Map at 0x7f30d3f85510>"
      ]
     },
     "execution_count": 78,
     "metadata": {},
     "output_type": "execute_result"
    }
   ],
   "source": [
    "folium.PolyLine(\n",
    "    list(zip(latitudes, longitudes)),\n",
    "    color=\"red\",\n",
    "    weight=2.5,\n",
    "    opacity=1\n",
    ").add_to(m)\n",
    "\n",
    "m"
   ]
  },
  {
   "cell_type": "code",
   "execution_count": 77,
   "id": "d781d76e-0f1b-42cf-beca-93fca75f16ba",
   "metadata": {},
   "outputs": [
    {
     "data": {
      "text/html": [
       "<div style=\"width:100%;\"><div style=\"position:relative;width:100%;height:0;padding-bottom:60%;\"><span style=\"color:#565656\">Make this Notebook Trusted to load map: File -> Trust Notebook</span><iframe srcdoc=\"&lt;!DOCTYPE html&gt;\n",
       "&lt;html&gt;\n",
       "&lt;head&gt;\n",
       "    \n",
       "    &lt;meta http-equiv=&quot;content-type&quot; content=&quot;text/html; charset=UTF-8&quot; /&gt;\n",
       "    \n",
       "        &lt;script&gt;\n",
       "            L_NO_TOUCH = false;\n",
       "            L_DISABLE_3D = false;\n",
       "        &lt;/script&gt;\n",
       "    \n",
       "    &lt;style&gt;html, body {width: 100%;height: 100%;margin: 0;padding: 0;}&lt;/style&gt;\n",
       "    &lt;style&gt;#map {position:absolute;top:0;bottom:0;right:0;left:0;}&lt;/style&gt;\n",
       "    &lt;script src=&quot;https://cdn.jsdelivr.net/npm/leaflet@1.9.3/dist/leaflet.js&quot;&gt;&lt;/script&gt;\n",
       "    &lt;script src=&quot;https://code.jquery.com/jquery-3.7.1.min.js&quot;&gt;&lt;/script&gt;\n",
       "    &lt;script src=&quot;https://cdn.jsdelivr.net/npm/bootstrap@5.2.2/dist/js/bootstrap.bundle.min.js&quot;&gt;&lt;/script&gt;\n",
       "    &lt;script src=&quot;https://cdnjs.cloudflare.com/ajax/libs/Leaflet.awesome-markers/2.0.2/leaflet.awesome-markers.js&quot;&gt;&lt;/script&gt;\n",
       "    &lt;link rel=&quot;stylesheet&quot; href=&quot;https://cdn.jsdelivr.net/npm/leaflet@1.9.3/dist/leaflet.css&quot;/&gt;\n",
       "    &lt;link rel=&quot;stylesheet&quot; href=&quot;https://cdn.jsdelivr.net/npm/bootstrap@5.2.2/dist/css/bootstrap.min.css&quot;/&gt;\n",
       "    &lt;link rel=&quot;stylesheet&quot; href=&quot;https://netdna.bootstrapcdn.com/bootstrap/3.0.0/css/bootstrap.min.css&quot;/&gt;\n",
       "    &lt;link rel=&quot;stylesheet&quot; href=&quot;https://cdn.jsdelivr.net/npm/@fortawesome/fontawesome-free@6.2.0/css/all.min.css&quot;/&gt;\n",
       "    &lt;link rel=&quot;stylesheet&quot; href=&quot;https://cdnjs.cloudflare.com/ajax/libs/Leaflet.awesome-markers/2.0.2/leaflet.awesome-markers.css&quot;/&gt;\n",
       "    &lt;link rel=&quot;stylesheet&quot; href=&quot;https://cdn.jsdelivr.net/gh/python-visualization/folium/folium/templates/leaflet.awesome.rotate.min.css&quot;/&gt;\n",
       "    \n",
       "            &lt;meta name=&quot;viewport&quot; content=&quot;width=device-width,\n",
       "                initial-scale=1.0, maximum-scale=1.0, user-scalable=no&quot; /&gt;\n",
       "            &lt;style&gt;\n",
       "                #map_3219dd9f2ffc8230c7ac7934f5411258 {\n",
       "                    position: relative;\n",
       "                    width: 100.0%;\n",
       "                    height: 100.0%;\n",
       "                    left: 0.0%;\n",
       "                    top: 0.0%;\n",
       "                }\n",
       "                .leaflet-container { font-size: 1rem; }\n",
       "            &lt;/style&gt;\n",
       "        \n",
       "&lt;/head&gt;\n",
       "&lt;body&gt;\n",
       "    \n",
       "    \n",
       "            &lt;div class=&quot;folium-map&quot; id=&quot;map_3219dd9f2ffc8230c7ac7934f5411258&quot; &gt;&lt;/div&gt;\n",
       "        \n",
       "&lt;/body&gt;\n",
       "&lt;script&gt;\n",
       "    \n",
       "    \n",
       "            var map_3219dd9f2ffc8230c7ac7934f5411258 = L.map(\n",
       "                &quot;map_3219dd9f2ffc8230c7ac7934f5411258&quot;,\n",
       "                {\n",
       "                    center: [-48.62265212027218, -69.79961677923116],\n",
       "                    crs: L.CRS.EPSG3857,\n",
       "                    zoom: 3,\n",
       "                    zoomControl: true,\n",
       "                    preferCanvas: false,\n",
       "                }\n",
       "            );\n",
       "\n",
       "            \n",
       "\n",
       "        \n",
       "    \n",
       "            var tile_layer_1ba9ebd6ef443f8e6dd660e9b526b7a8 = L.tileLayer(\n",
       "                &quot;https://tile.openstreetmap.org/{z}/{x}/{y}.png&quot;,\n",
       "                {&quot;attribution&quot;: &quot;\\u0026copy; \\u003ca href=\\&quot;https://www.openstreetmap.org/copyright\\&quot;\\u003eOpenStreetMap\\u003c/a\\u003e contributors&quot;, &quot;detectRetina&quot;: false, &quot;maxNativeZoom&quot;: 19, &quot;maxZoom&quot;: 19, &quot;minZoom&quot;: 0, &quot;noWrap&quot;: false, &quot;opacity&quot;: 1, &quot;subdomains&quot;: &quot;abc&quot;, &quot;tms&quot;: false}\n",
       "            );\n",
       "        \n",
       "    \n",
       "            tile_layer_1ba9ebd6ef443f8e6dd660e9b526b7a8.addTo(map_3219dd9f2ffc8230c7ac7934f5411258);\n",
       "        \n",
       "    \n",
       "            var marker_75604ac7c1b78a8e3939ac588dd9f20e = L.marker(\n",
       "                [-48.62265212027218, -69.79961677923116],\n",
       "                {}\n",
       "            ).addTo(map_3219dd9f2ffc8230c7ac7934f5411258);\n",
       "        \n",
       "    \n",
       "            marker_75604ac7c1b78a8e3939ac588dd9f20e.bindTooltip(\n",
       "                `&lt;div&gt;\n",
       "                     ISS (ZARYA) Current Position\n",
       "                 &lt;/div&gt;`,\n",
       "                {&quot;sticky&quot;: true}\n",
       "            );\n",
       "        \n",
       "&lt;/script&gt;\n",
       "&lt;/html&gt;\" style=\"position:absolute;width:100%;height:100%;left:0;top:0;border:none !important;\" allowfullscreen webkitallowfullscreen mozallowfullscreen></iframe></div></div>"
      ],
      "text/plain": [
       "<folium.folium.Map at 0x7f30d3f85510>"
      ]
     },
     "execution_count": 77,
     "metadata": {},
     "output_type": "execute_result"
    }
   ],
   "source": [
    "import folium\n",
    "\n",
    "# Use the first position as the current position\n",
    "current_position = [latitudes[0], longitudes[0]]\n",
    "\n",
    "# Create a map centered around the current position of the satellite\n",
    "m = folium.Map(location=current_position, zoom_start=3)\n",
    "\n",
    "# Add a marker for the current position\n",
    "folium.Marker(current_position, tooltip='ISS (ZARYA) Current Position').add_to(m)\n",
    "\n",
    "\n",
    "# Display the map\n",
    "m"
   ]
  },
  {
   "cell_type": "code",
   "execution_count": 19,
   "id": "6cf434dc-facd-4091-9529-eab1e4c23e33",
   "metadata": {},
   "outputs": [],
   "source": [
    "def segment_path(latitudes, longitudes):\n",
    "    segments = []\n",
    "    current_segment = [[latitudes[0], longitudes[0]]]\n",
    "\n",
    "    for lat, lon in zip(latitudes[1:], longitudes[1:]):\n",
    "        if abs(lon - current_segment[-1][1]) > 180:  # Crossing the antimeridian\n",
    "            # Finish the current segment and start a new one\n",
    "            segments.append(current_segment)\n",
    "            current_segment = [[lat, lon]]\n",
    "        else:\n",
    "            current_segment.append([lat, lon])\n",
    "    \n",
    "    # Add the last segment\n",
    "    segments.append(current_segment)\n",
    "    return segments\n",
    "\n",
    "segments = segment_path(latitudes, longitudes)\n"
   ]
  },
  {
   "cell_type": "code",
   "execution_count": null,
   "id": "21ebcd37-408a-47d5-98ca-55a51a0860e7",
   "metadata": {},
   "outputs": [],
   "source": []
  },
  {
   "cell_type": "code",
   "execution_count": 44,
   "id": "7e3c934b-c9ae-4e11-bfe7-d5cd7496da05",
   "metadata": {},
   "outputs": [],
   "source": [
    "# Create a GeoJSON LineString for the satellite's path\n",
    "geojson_path = {\n",
    "    \"type\": \"FeatureCollection\",\n",
    "    \"features\": [{\n",
    "        \"type\": \"Feature\",\n",
    "        \"geometry\": {\n",
    "            \"type\": \"LineString\",\n",
    "            \"coordinates\": [[lon, lat, alt] for lat, lon, alt in zip(latitudes, longitudes, altitudes)]\n",
    "        },\n",
    "        \"properties\": {\n",
    "            \"name\": \"ISS Orbit Path\"\n",
    "        }\n",
    "    }]\n",
    "}\n",
    "\n"
   ]
  },
  {
   "cell_type": "code",
   "execution_count": 49,
   "id": "9fbf4c5c-b4b4-4584-8560-dd28824bdc8f",
   "metadata": {},
   "outputs": [
    {
     "data": {
      "text/plain": [
       "'/home/jay/Documents/ENVS456-Web_Mapping_and_Geovisualisation/envs456/labs/st.geojson'"
      ]
     },
     "execution_count": 49,
     "metadata": {},
     "output_type": "execute_result"
    }
   ],
   "source": [
    "# Save the GeoJSON to a file\n",
    "geojson_filename = '/home/jay/Documents/ENVS456-Web_Mapping_and_Geovisualisation/envs456/labs/st.geojson'\n",
    "with open(geojson_filename, 'w') as f:\n",
    "    json.dump(geojson_path, f)\n",
    "\n",
    "geojson_filename"
   ]
  },
  {
   "cell_type": "code",
   "execution_count": 81,
   "id": "38c44c5d-6870-49c7-b54f-63ec28762c1c",
   "metadata": {},
   "outputs": [],
   "source": [
    "from IPython.display import HTML\n",
    "\n",
    "\n",
    "\n",
    "html_code = \"\"\"\n",
    "<!DOCTYPE html>\n",
    "<html lang='en'>\n",
    "<head>\n",
    "    <meta charset='utf-8' />\n",
    "    <title>Points on a map</title>\n",
    "    <meta name='viewport' content='width=device-width, initial-scale=1' />\n",
    "    <script src='https://api.tiles.mapbox.com/mapbox-gl-js/v3.1.0/mapbox-gl.js'></script>\n",
    "    <link href='https://api.tiles.mapbox.com/mapbox-gl-js/v3.1.0/mapbox-gl.css' rel='stylesheet' />\n",
    "    <style>\n",
    "        body { \n",
    "            margin: 0; \n",
    "            padding: 0; \n",
    "        }\n",
    "        #map { \n",
    "            position: absolute; \n",
    "            top: 0; \n",
    "            bottom: 0; \n",
    "            width: 100%; \n",
    "        }\n",
    "    </style>\n",
    "</head>\n",
    "<body>\n",
    "<div id='map'></div>\n",
    "<script>\n",
    "    mapboxgl.accessToken = 'pk.eyJ1IjoiamF5dGlsYWsiLCJhIjoiY2xzbmpmbGgxMDR6MjJsbHJwcWNiZ3MzeiJ9.1NGfoYr6EeGENibTd2ZQKQ';\n",
    "    const map = new mapboxgl.Map({\n",
    "        container: 'map',\n",
    "        style: 'mapbox://styles/jaytilak/cltabg4q600ub01pj34qx93lw',\n",
    "        center: [87.1653773271837, -2.8004583596635726],\n",
    "        zoom: 1\n",
    "    });\n",
    "\n",
    "    map.on('load', function() {\n",
    "      // Add a marker for the satellite\n",
    "       var el = document.createElement('div');\n",
    "       el.className = 'marker'; \n",
    "       el.style.backgroundImage = \"url('https://encrypted-tbn0.gstatic.com/images?q=tbn:ANd9GcQudAU0A027SOaBBB1jw13HG90Z9-LzD92XKoTvfwKeYZvmMjKk7NgbvbdVY-N0f7e3_co&usqp=CAU')\"; // Replace this with your actual image URL\n",
    "       el.style.width = '20px';\n",
    "       el.style.height = '20px';\n",
    "       el.style.backgroundSize = 'cover';\n",
    "\n",
    "\n",
    "\n",
    "\n",
    "       \n",
    "       var marker = new mapboxgl.Marker(el)\n",
    "         .setLngLat([87.1653773271837, -2.8004583596635726]) // Set to the satellite's position\n",
    "         .addTo(map);\n",
    "\n",
    "       // Add a popup to the marker\n",
    "       var popup = new mapboxgl.Popup({ offset: 25 })\n",
    "           .setText('International Space Station Location') // Popup text\n",
    "           .addTo(map);\n",
    "\n",
    "      // Associate the popup with the marker\n",
    "       marker.setPopup(popup);\n",
    "});\n",
    "</script>\n",
    "</body>\n",
    "</html>\n",
    "\"\"\"\n",
    "file_name = 'mapbox_map.html'\n",
    "with open(file_name, 'w') as file:\n",
    "    file.write(html_code)"
   ]
  },
  {
   "cell_type": "markdown",
   "id": "0d947cca-4509-4416-89de-5e751bf70029",
   "metadata": {},
   "source": [
    "## to ensure below map works, please connect to internet"
   ]
  },
  {
   "cell_type": "code",
   "execution_count": 4,
   "id": "a8baef6a-7fba-48a1-accf-86296a426843",
   "metadata": {},
   "outputs": [
    {
     "data": {
      "text/html": [
       "\n",
       "        <iframe\n",
       "            width=\"100%\"\n",
       "            height=\"500px\"\n",
       "            src=\"https://tilak-pentapati.github.io/mapbox_map.html\"\n",
       "            frameborder=\"0\"\n",
       "            allowfullscreen\n",
       "            \n",
       "        ></iframe>\n",
       "        "
      ],
      "text/plain": [
       "<IPython.lib.display.IFrame at 0x7f1f20f8e810>"
      ]
     },
     "execution_count": 4,
     "metadata": {},
     "output_type": "execute_result"
    }
   ],
   "source": [
    "from IPython.display import IFrame\n",
    "\n",
    "\n",
    "# Display the HTML file in an IFrame\n",
    "IFrame(src=\"https://tilak-pentapati.github.io/mapbox_map.html\", width='100%', height='500px')"
   ]
  },
  {
   "cell_type": "code",
   "execution_count": null,
   "id": "4bb018f1-30de-43f1-a960-cf181f1df44a",
   "metadata": {},
   "outputs": [],
   "source": []
  },
  {
   "cell_type": "code",
   "execution_count": 5,
   "id": "113d9b26-fddb-40ba-a78b-c9cb3f87de9e",
   "metadata": {},
   "outputs": [
    {
     "data": {
      "text/html": [
       "\n",
       "<!DOCTYPE html>\n",
       "<html lang='en'>\n",
       "<head>\n",
       "    <meta charset='utf-8' />\n",
       "    <title>Points on a map</title>\n",
       "    <meta name='viewport' content='width=device-width, initial-scale=1' />\n",
       "    <script src='https://api.tiles.mapbox.com/mapbox-gl-js/v3.1.0/mapbox-gl.js'></script>\n",
       "    <link href='https://api.tiles.mapbox.com/mapbox-gl-js/v3.1.0/mapbox-gl.css' rel='stylesheet' />\n",
       "    <style>\n",
       "        body { \n",
       "            margin: 0; \n",
       "            padding: 0; \n",
       "        }\n",
       "        #map { \n",
       "            position: absolute; \n",
       "            top: 0; \n",
       "            bottom: 0; \n",
       "            width: 100%; \n",
       "        }\n",
       "    </style>\n",
       "</head>\n",
       "<body>\n",
       "<div id='map'></div>\n",
       "<script>\n",
       "    mapboxgl.accessToken = 'pk.eyJ1IjoiamF5dGlsYWsiLCJhIjoiY2xzbmpmbGgxMDR6MjJsbHJwcWNiZ3MzeiJ9.1NGfoYr6EeGENibTd2ZQKQ';\n",
       "    const map = new mapboxgl.Map({\n",
       "        container: 'map',\n",
       "        style: 'mapbox://styles/jaytilak/cltabg4q600ub01pj34qx93lw',\n",
       "        center: [87.1653773271837, -2.8004583596635726],\n",
       "        zoom: 1\n",
       "    });\n",
       "\n",
       "    map.on('load', function() {\n",
       "      // Add a marker for the satellite\n",
       "       var el = document.createElement('div');\n",
       "       el.className = 'marker'; \n",
       "       el.style.backgroundImage = \"url('https://encrypted-tbn0.gstatic.com/images?q=tbn:ANd9GcQudAU0A027SOaBBB1jw13HG90Z9-LzD92XKoTvfwKeYZvmMjKk7NgbvbdVY-N0f7e3_co&usqp=CAU')\"; // Replace this with your actual image URL\n",
       "       el.style.width = '20px';\n",
       "       el.style.height = '20px';\n",
       "       el.style.backgroundSize = 'cover';\n",
       "\n",
       "\n",
       "\n",
       "\n",
       "       \n",
       "       var marker = new mapboxgl.Marker(el)\n",
       "         .setLngLat([87.1653773271837, -2.8004583596635726]) // Set to the satellite's position\n",
       "         .addTo(map);\n",
       "\n",
       "       // Add a popup to the marker\n",
       "       var popup = new mapboxgl.Popup({ offset: 25 })\n",
       "           .setText('International Space Station Location') // Popup text\n",
       "           .addTo(map);\n",
       "\n",
       "      // Associate the popup with the marker\n",
       "       marker.setPopup(popup);\n",
       "});\n",
       "</script>\n",
       "</body>\n",
       "</html>\n",
       "\n"
      ],
      "text/plain": [
       "<IPython.core.display.HTML object>"
      ]
     },
     "execution_count": 5,
     "metadata": {},
     "output_type": "execute_result"
    }
   ],
   "source": [
    "from IPython.display import HTML\n",
    "\n",
    "HTML(\"\"\"\n",
    "<!DOCTYPE html>\n",
    "<html lang='en'>\n",
    "<head>\n",
    "    <meta charset='utf-8' />\n",
    "    <title>Points on a map</title>\n",
    "    <meta name='viewport' content='width=device-width, initial-scale=1' />\n",
    "    <script src='https://api.tiles.mapbox.com/mapbox-gl-js/v3.1.0/mapbox-gl.js'></script>\n",
    "    <link href='https://api.tiles.mapbox.com/mapbox-gl-js/v3.1.0/mapbox-gl.css' rel='stylesheet' />\n",
    "    <style>\n",
    "        body { \n",
    "            margin: 0; \n",
    "            padding: 0; \n",
    "        }\n",
    "        #map { \n",
    "            position: absolute; \n",
    "            top: 0; \n",
    "            bottom: 0; \n",
    "            width: 100%; \n",
    "        }\n",
    "    </style>\n",
    "</head>\n",
    "<body>\n",
    "<div id='map'></div>\n",
    "<script>\n",
    "    mapboxgl.accessToken = 'pk.eyJ1IjoiamF5dGlsYWsiLCJhIjoiY2xzbmpmbGgxMDR6MjJsbHJwcWNiZ3MzeiJ9.1NGfoYr6EeGENibTd2ZQKQ';\n",
    "    const map = new mapboxgl.Map({\n",
    "        container: 'map',\n",
    "        style: 'mapbox://styles/jaytilak/cltabg4q600ub01pj34qx93lw',\n",
    "        center: [87.1653773271837, -2.8004583596635726],\n",
    "        zoom: 1\n",
    "    });\n",
    "\n",
    "    map.on('load', function() {\n",
    "      // Add a marker for the satellite\n",
    "       var el = document.createElement('div');\n",
    "       el.className = 'marker'; \n",
    "       el.style.backgroundImage = \"url('https://encrypted-tbn0.gstatic.com/images?q=tbn:ANd9GcQudAU0A027SOaBBB1jw13HG90Z9-LzD92XKoTvfwKeYZvmMjKk7NgbvbdVY-N0f7e3_co&usqp=CAU')\"; // Replace this with your actual image URL\n",
    "       el.style.width = '20px';\n",
    "       el.style.height = '20px';\n",
    "       el.style.backgroundSize = 'cover';\n",
    "\n",
    "\n",
    "\n",
    "\n",
    "       \n",
    "       var marker = new mapboxgl.Marker(el)\n",
    "         .setLngLat([87.1653773271837, -2.8004583596635726]) // Set to the satellite's position\n",
    "         .addTo(map);\n",
    "\n",
    "       // Add a popup to the marker\n",
    "       var popup = new mapboxgl.Popup({ offset: 25 })\n",
    "           .setText('International Space Station Location') // Popup text\n",
    "           .addTo(map);\n",
    "\n",
    "      // Associate the popup with the marker\n",
    "       marker.setPopup(popup);\n",
    "});\n",
    "</script>\n",
    "</body>\n",
    "</html>\n",
    "\n",
    "\"\"\")"
   ]
  },
  {
   "cell_type": "code",
   "execution_count": 7,
   "id": "968ef98c-98cc-4757-8c5f-767fcf8196ea",
   "metadata": {},
   "outputs": [
    {
     "data": {
      "application/vnd.jupyter.widget-view+json": {
       "model_id": "399c2223c9d34028be3c56db5fffa517",
       "version_major": 2,
       "version_minor": 0
      },
      "text/plain": [
       "Dropdown(description='Satellite:', options=('Satellite 1', 'Satellite 2'), value='Satellite 1')"
      ]
     },
     "metadata": {},
     "output_type": "display_data"
    },
    {
     "data": {
      "application/vnd.jupyter.widget-view+json": {
       "model_id": "fb1127295c0b464bb77bc67765d9f426",
       "version_major": 2,
       "version_minor": 0
      },
      "text/plain": [
       "Output()"
      ]
     },
     "metadata": {},
     "output_type": "display_data"
    }
   ],
   "source": [
    "import ipywidgets as widgets\n",
    "from IPython.display import display\n",
    "import pandas as pd\n",
    "\n",
    "# Example DataFrames\n",
    "df1 = pd.DataFrame({'A': [1, 2, 3], 'B': [4, 5, 6]})\n",
    "df2 = pd.DataFrame({'A': [7, 8, 9], 'B': [10, 11, 12]})\n",
    "# Add more DataFrames as needed...\n",
    "\n",
    "# Assuming you have a list or dictionary of DataFrames\n",
    "dfs = {'Satellite 1': df1, 'Satellite 2': df2}  # Extend this with all 24 DataFrames\n",
    "\n",
    "# Create a Dropdown widget\n",
    "dropdown = widgets.Dropdown(\n",
    "    options=list(dfs.keys()),\n",
    "    value=list(dfs.keys())[0],  # Default value\n",
    "    description='Satellite:',\n",
    "    disabled=False,\n",
    ")\n",
    "\n",
    "# Create an Output widget to display DataFrame\n",
    "output = widgets.Output()\n",
    "\n",
    "# Dropdown event handler\n",
    "def dropdown_eventhandler(change):\n",
    "    output.clear_output()  # Clear the previous DataFrame\n",
    "    with output:\n",
    "        display(dfs[change.new])  # Display the selected DataFrame\n",
    "\n",
    "# Observe the dropdown\n",
    "dropdown.observe(dropdown_eventhandler, names='value')\n",
    "\n",
    "# Display the widgets\n",
    "display(dropdown, output)\n",
    "\n",
    "# Initially display the first DataFrame\n",
    "with output:\n",
    "    display(dfs[dropdown.value])"
   ]
  },
  {
   "cell_type": "code",
   "execution_count": null,
   "id": "51e2e29e-b5af-4be4-b00f-5f855abff1ff",
   "metadata": {},
   "outputs": [],
   "source": []
  }
 ],
 "metadata": {
  "kernelspec": {
   "display_name": "Python 3 (ipykernel)",
   "language": "python",
   "name": "python3"
  },
  "language_info": {
   "codemirror_mode": {
    "name": "ipython",
    "version": 3
   },
   "file_extension": ".py",
   "mimetype": "text/x-python",
   "name": "python",
   "nbconvert_exporter": "python",
   "pygments_lexer": "ipython3",
   "version": "3.11.5"
  }
 },
 "nbformat": 4,
 "nbformat_minor": 5
}
